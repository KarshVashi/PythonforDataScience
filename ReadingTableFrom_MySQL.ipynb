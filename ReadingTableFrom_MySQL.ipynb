{
 "cells": [
  {
   "cell_type": "markdown",
   "metadata": {},
   "source": [
    "Steps to connect MySQL database in Python using MySQL Connector Python"
   ]
  },
  {
   "cell_type": "markdown",
   "metadata": {},
   "source": [
    "1. Install MySQL Connector Python using pip.\n",
    "2. Use the  mysql.connector.connect()  method of MySQL Connector Python with required parameters to connect MySQL.\n",
    "3. Use the connection object returned by a  connect()  method to create a cursor object to perform Database Operations.\n",
    "4. The cursor.execute() to execute SQL queries from Python.\n",
    "5. Close the Cursor object using a cursor.close() and MySQL database connection using connection.close() after your work  completes.\n"
   ]
  },
  {
   "cell_type": "code",
   "execution_count": null,
   "metadata": {},
   "outputs": [],
   "source": [
    "pip install mysql connector"
   ]
  },
  {
   "cell_type": "code",
   "execution_count": 1,
   "metadata": {},
   "outputs": [],
   "source": [
    "import mysql.connector"
   ]
  },
  {
   "cell_type": "markdown",
   "metadata": {},
   "source": [
    "Syntax: connect(host=\"localhost\", user=\"root\", passwd=\"root\")\n",
    "\n",
    "Host Name  – is the server name or Ip address on which MySQL is running. if you are running on localhost, then you can use localhost, or it’s IP, i.e. 127.0.0.0\n",
    "Username –  i.e., the username that you use to work with MySQL Server. The default username for the MySQL database is a root\n",
    "Password – Password is given by the user at the time of installing the MySQL database. If you are using root then you won’t need the password.\n",
    "Database Name – Database name to which you want to connect. Here we are using Database named ‘Electronics‘  because we have already created this for our example."
   ]
  },
  {
   "cell_type": "code",
   "execution_count": 2,
   "metadata": {},
   "outputs": [],
   "source": [
    "mydb=mysql.connector.connect(host=\"localhost\", user=\"root\", passwd=\"root\")#database=\"temp\""
   ]
  },
  {
   "cell_type": "code",
   "execution_count": 3,
   "metadata": {},
   "outputs": [],
   "source": [
    "mycur=mydb.cursor()"
   ]
  },
  {
   "cell_type": "code",
   "execution_count": 4,
   "metadata": {},
   "outputs": [
    {
     "name": "stdout",
     "output_type": "stream",
     "text": [
      "('datas',)\n",
      "('information_schema',)\n",
      "('mysql',)\n",
      "('performance_schema',)\n",
      "('sakila',)\n",
      "('sys',)\n",
      "('temp',)\n",
      "('world',)\n"
     ]
    }
   ],
   "source": [
    "mycur.execute(\"show databases\")\n",
    "for i in mycur:\n",
    "    print(i)"
   ]
  },
  {
   "cell_type": "code",
   "execution_count": 5,
   "metadata": {},
   "outputs": [],
   "source": [
    "mycur.execute(\"use temp\")"
   ]
  },
  {
   "cell_type": "code",
   "execution_count": 12,
   "metadata": {},
   "outputs": [
    {
     "name": "stdout",
     "output_type": "stream",
     "text": [
      "(2, 'Tina', 3000.0)\n",
      "(4, 'xyz', 4555.0)\n",
      "(5, 'xyz', 4555.0)\n"
     ]
    }
   ],
   "source": [
    "mycur.execute(\"select * from employee where sal > 2800\")\n",
    "for i in mycur:\n",
    "    print(i)"
   ]
  },
  {
   "cell_type": "code",
   "execution_count": 11,
   "metadata": {},
   "outputs": [],
   "source": [
    "for i in mycur:\n",
    "    print(i)"
   ]
  },
  {
   "cell_type": "markdown",
   "metadata": {},
   "source": [
    "References\n",
    "1. https://pynative.com/python-mysql-database-connection/"
   ]
  }
 ],
 "metadata": {
  "kernelspec": {
   "display_name": "Python 3",
   "language": "python",
   "name": "python3"
  },
  "language_info": {
   "codemirror_mode": {
    "name": "ipython",
    "version": 3
   },
   "file_extension": ".py",
   "mimetype": "text/x-python",
   "name": "python",
   "nbconvert_exporter": "python",
   "pygments_lexer": "ipython3",
   "version": "3.8.3"
  }
 },
 "nbformat": 4,
 "nbformat_minor": 4
}
